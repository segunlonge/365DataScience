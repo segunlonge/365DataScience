{
 "cells": [
  {
   "cell_type": "code",
   "execution_count": 3,
   "id": "075ca6e9-fd12-445c-b27a-8fec11b99817",
   "metadata": {},
   "outputs": [],
   "source": [
    "import numpy as np"
   ]
  },
  {
   "cell_type": "markdown",
   "id": "496178e1-fabb-4ce3-8a64-dbe69e03a963",
   "metadata": {},
   "source": [
    "Adding together two simple matrices\n",
    "Example is a 4x3 matrix"
   ]
  },
  {
   "cell_type": "code",
   "execution_count": 5,
   "id": "f52f8736-48f1-4143-bc5c-63d256141fb4",
   "metadata": {},
   "outputs": [
    {
     "data": {
      "text/plain": [
       "array([[[ 2,  4,  7],\n",
       "        [ 9,  9, 12]],\n",
       "\n",
       "       [[ 2,  5,  6],\n",
       "        [10,  4,  6]]])"
      ]
     },
     "execution_count": 5,
     "metadata": {},
     "output_type": "execute_result"
    }
   ],
   "source": [
    "a = np.array([[[1,2,3],[4,5,6]],[[1,1,1],[2,2,2]]])\n",
    "b = np.array([[[1,2,4],[5,4,6]],[[1,4,5],[8,2,4]]])\n",
    "\n",
    "a+b"
   ]
  },
  {
   "cell_type": "markdown",
   "id": "312280aa-b6eb-42bd-bae6-551a920c0f02",
   "metadata": {},
   "source": [
    "Multiply together two simple matrices\n",
    "Example is a 2x3 and a 3x2 (both matrices are in the correct form i.e. mxn and nxo)"
   ]
  },
  {
   "cell_type": "code",
   "execution_count": 7,
   "id": "3074cd02-5d42-4e8c-856c-f4c4f46cf6c4",
   "metadata": {},
   "outputs": [
    {
     "data": {
      "text/plain": [
       "array([[133, 247],\n",
       "       [666, 677]])"
      ]
     },
     "execution_count": 7,
     "metadata": {},
     "output_type": "execute_result"
    }
   ],
   "source": [
    "c = np.array([[5,21,6],[11,8,62]])\n",
    "d = np.array([[2,5],[3,8],[10,9]])\n",
    "\n",
    "np.dot(c,d)"
   ]
  },
  {
   "cell_type": "markdown",
   "id": "1a30f952-37d6-4cb9-a3ea-879821c86dcc",
   "metadata": {},
   "source": [
    "Multiply together two simple vectors and dealing with shapes"
   ]
  },
  {
   "cell_type": "code",
   "execution_count": 13,
   "id": "c17e58fb-1424-4007-81b2-e0f699cb5f40",
   "metadata": {},
   "outputs": [
    {
     "data": {
      "text/plain": [
       "array([[2],\n",
       "       [3]])"
      ]
     },
     "execution_count": 13,
     "metadata": {},
     "output_type": "execute_result"
    }
   ],
   "source": [
    "e = np.array([2,3])\n",
    "f = np.array([-2,-3])\n",
    "\n",
    "np.dot(e,f)\n",
    "\n",
    "e.shape\n",
    "e.reshape(2,1)"
   ]
  },
  {
   "cell_type": "markdown",
   "id": "4c96418c-e1dd-470b-a72f-e482d359bf52",
   "metadata": {},
   "source": [
    "Example of a tensor with depth = 3; row = 2; column = 2"
   ]
  },
  {
   "cell_type": "code",
   "execution_count": 19,
   "id": "c22e58bf-e701-4ef2-9a26-991eba2fffb0",
   "metadata": {},
   "outputs": [
    {
     "data": {
      "text/plain": [
       "array([[16,  0],\n",
       "       [10, 12]])"
      ]
     },
     "execution_count": 19,
     "metadata": {},
     "output_type": "execute_result"
    }
   ],
   "source": [
    "s=np.array([[[1,2],[3,4]],[[5,6],[7,8]],[[9,10],[11,12]]])\n",
    "m=np.array([[[-2,-2],[3,14]],[[15,-2],[7,8]],[[29,10],[21,32]]])\n",
    "\n",
    "s.shape\n",
    "s[0]+m[1]"
   ]
  },
  {
   "cell_type": "markdown",
   "id": "543930e4-26c7-4a53-ad2e-1fc0c7c2fc3a",
   "metadata": {},
   "source": [
    "Transposing a matrix and reshaping (note that transposing matrix g equals the original matrix)"
   ]
  },
  {
   "cell_type": "code",
   "execution_count": 73,
   "id": "12d416ea-c88f-4b31-94ae-4e9e702baca6",
   "metadata": {},
   "outputs": [
    {
     "data": {
      "text/plain": [
       "array([[1, 1, 4],\n",
       "       [1, 0, 2],\n",
       "       [4, 2, 5]])"
      ]
     },
     "execution_count": 73,
     "metadata": {},
     "output_type": "execute_result"
    }
   ],
   "source": [
    "g=np.array([[1,1,4],[1,0,2],[4,2,5]])\n",
    "g"
   ]
  },
  {
   "cell_type": "code",
   "execution_count": 86,
   "id": "3dfef855-34de-461f-985f-6f5e5005b5e7",
   "metadata": {},
   "outputs": [
    {
     "data": {
      "text/plain": [
       "array([[18,  9, 26],\n",
       "       [ 9,  5, 14],\n",
       "       [26, 14, 45]])"
      ]
     },
     "execution_count": 86,
     "metadata": {},
     "output_type": "execute_result"
    }
   ],
   "source": [
    "np.dot(g,g.T)"
   ]
  },
  {
   "cell_type": "markdown",
   "id": "647da975-9918-4102-8333-f7c1bcadc90d",
   "metadata": {},
   "source": [
    "Another example of transpose"
   ]
  },
  {
   "cell_type": "code",
   "execution_count": 80,
   "id": "43228c7c-604d-444e-8629-839d0d6c2720",
   "metadata": {},
   "outputs": [
    {
     "data": {
      "text/plain": [
       "array([[ 4, -5],\n",
       "       [ 8, 12],\n",
       "       [-2, -3],\n",
       "       [19,  0]])"
      ]
     },
     "execution_count": 80,
     "metadata": {},
     "output_type": "execute_result"
    }
   ],
   "source": [
    "C = np.array([[4,-5],[8,12],[-2,-3],[19,0]])\n",
    "C"
   ]
  },
  {
   "cell_type": "code",
   "execution_count": 82,
   "id": "e44b7bac-456f-488c-bf6b-bff75805c9cf",
   "metadata": {},
   "outputs": [
    {
     "data": {
      "text/plain": [
       "array([[ 4,  8, -2, 19],\n",
       "       [-5, 12, -3,  0]])"
      ]
     },
     "execution_count": 82,
     "metadata": {},
     "output_type": "execute_result"
    }
   ],
   "source": [
    "C.T"
   ]
  },
  {
   "cell_type": "markdown",
   "id": "c2764977-7c58-4403-8ddd-823e589374f8",
   "metadata": {},
   "source": [
    "...."
   ]
  },
  {
   "cell_type": "code",
   "execution_count": 88,
   "id": "46e43325-7382-4471-8b30-45b5f0c03e5e",
   "metadata": {},
   "outputs": [
    {
     "data": {
      "text/plain": [
       "array([[14, 48, 27],\n",
       "       [16, 40, 28]])"
      ]
     },
     "execution_count": 88,
     "metadata": {},
     "output_type": "execute_result"
    }
   ],
   "source": [
    "N = np.array([[12,3,2],[10,8,6]])\n",
    "M = np.array([[1,4,2],[0,0,1],[1,0,0]])\n",
    "P = np.array([[5,6,7],[90,11,32],[5,6,19]])\n",
    "\n",
    "np.dot(N,M)"
   ]
  },
  {
   "cell_type": "code",
   "execution_count": 90,
   "id": "7ef06f59-d166-4b7b-a2fc-918fe3c9dd21",
   "metadata": {},
   "outputs": [
    {
     "data": {
      "text/plain": [
       "array([[19, 53, 32],\n",
       "       [21, 45, 33]])"
      ]
     },
     "execution_count": 90,
     "metadata": {},
     "output_type": "execute_result"
    }
   ],
   "source": [
    "np.dot(N,M)+5"
   ]
  },
  {
   "cell_type": "markdown",
   "id": "4598d22e-f00c-481e-944c-0011846e05b7",
   "metadata": {},
   "source": [
    "This operation does not work because the shape of the NxM matrix is not the same as the 5*P matrix"
   ]
  },
  {
   "cell_type": "code",
   "execution_count": 92,
   "id": "28d8c56e-1fa8-4cd4-bcc3-e40f01edaf04",
   "metadata": {},
   "outputs": [
    {
     "ename": "ValueError",
     "evalue": "operands could not be broadcast together with shapes (2,3) (3,3) ",
     "output_type": "error",
     "traceback": [
      "\u001b[1;31m---------------------------------------------------------------------------\u001b[0m",
      "\u001b[1;31mValueError\u001b[0m                                Traceback (most recent call last)",
      "Cell \u001b[1;32mIn[92], line 1\u001b[0m\n\u001b[1;32m----> 1\u001b[0m np\u001b[38;5;241m.\u001b[39mdot(N,M)\u001b[38;5;241m+\u001b[39m\u001b[38;5;241m5\u001b[39m\u001b[38;5;241m*\u001b[39mP\n",
      "\u001b[1;31mValueError\u001b[0m: operands could not be broadcast together with shapes (2,3) (3,3) "
     ]
    }
   ],
   "source": [
    "np.dot(N,M)+5*P"
   ]
  },
  {
   "cell_type": "markdown",
   "id": "bb3004e4-9e1b-4f9a-a6c2-98498beb3839",
   "metadata": {},
   "source": [
    "Multiplation of two unit vectors that are orthogonal to each other"
   ]
  },
  {
   "cell_type": "code",
   "execution_count": 94,
   "id": "d64b43de-fb80-4cc6-843c-80e55f39b5c8",
   "metadata": {},
   "outputs": [
    {
     "data": {
      "text/plain": [
       "0"
      ]
     },
     "execution_count": 94,
     "metadata": {},
     "output_type": "execute_result"
    }
   ],
   "source": [
    "h = np.array([1,0])\n",
    "i = np.array([0,1])\n",
    "\n",
    "np.dot(h,i)"
   ]
  },
  {
   "cell_type": "markdown",
   "id": "5c6e933d-169a-4481-8705-df2df3db23ca",
   "metadata": {},
   "source": [
    "Multiplication of two unit vectors in the same direction just increases the magnitude"
   ]
  },
  {
   "cell_type": "code",
   "execution_count": 102,
   "id": "4c457cec-6f23-4c3d-802e-89ba3154dcce",
   "metadata": {},
   "outputs": [
    {
     "data": {
      "text/plain": [
       "2"
      ]
     },
     "execution_count": 102,
     "metadata": {},
     "output_type": "execute_result"
    }
   ],
   "source": [
    "j = np.array([1,1])\n",
    "k = np.array([1,1])\n",
    "\n",
    "np.dot(j,k)"
   ]
  },
  {
   "cell_type": "markdown",
   "id": "4e7fd62b-cc6e-4d98-8a36-f7208c8a33a0",
   "metadata": {},
   "source": [
    "An example of set time of activity per day 3 times a day for two days"
   ]
  },
  {
   "cell_type": "code",
   "execution_count": 13,
   "id": "e86e0854-519b-460b-a27d-b1a00c3b0cc3",
   "metadata": {},
   "outputs": [
    {
     "data": {
      "text/plain": [
       "array([[24, 45, 15],\n",
       "       [12, 34, 53]])"
      ]
     },
     "execution_count": 13,
     "metadata": {},
     "output_type": "execute_result"
    }
   ],
   "source": [
    "two_days = np.array([[24,45,15],[12,34,53]])\n",
    "two_days"
   ]
  },
  {
   "cell_type": "code",
   "execution_count": 43,
   "id": "aae6ac6d-abf5-41fb-92f5-9317cf0e6b73",
   "metadata": {},
   "outputs": [
    {
     "data": {
      "text/plain": [
       "array([[1, 1, 1]])"
      ]
     },
     "execution_count": 43,
     "metadata": {},
     "output_type": "execute_result"
    }
   ],
   "source": [
    "total_per_day = np.array([[1,1,1]])\n",
    "total_per_day.shape\n",
    "total_per_day_s = total_per_day.reshape(1,3)\n",
    "\n",
    "#np.dot(total_per_day_s, two_days)\n",
    "\n",
    "total_per_day_s\n",
    "\n"
   ]
  },
  {
   "cell_type": "markdown",
   "id": "e08d579d-2d5b-4e03-9f2d-f217cc84e73f",
   "metadata": {},
   "source": [
    "Calculating the total time of activities per day using matrix multiplication. The second matrix is transposed to get the two matrices in the right shape for multiplication i.e. 1xn and nx2 where n = 3"
   ]
  },
  {
   "cell_type": "code",
   "execution_count": 45,
   "id": "88847ed8-e182-42ce-bd70-41229df8aaa9",
   "metadata": {},
   "outputs": [
    {
     "data": {
      "text/plain": [
       "array([[84, 99]])"
      ]
     },
     "execution_count": 45,
     "metadata": {},
     "output_type": "execute_result"
    }
   ],
   "source": [
    "np.dot(total_per_day_s,two_days.T)"
   ]
  },
  {
   "cell_type": "markdown",
   "id": "e7cba52c-cbff-48ea-9ad1-b9824c44046c",
   "metadata": {},
   "source": [
    "Converting minutes of the two day activity to seconds (Scalar times a matrix)"
   ]
  },
  {
   "cell_type": "code",
   "execution_count": 51,
   "id": "2cb5c7f5-c608-4e6e-b4fe-9b4d7bdbd3eb",
   "metadata": {},
   "outputs": [
    {
     "data": {
      "text/plain": [
       "array([[1440, 2700,  900],\n",
       "       [ 720, 2040, 3180]])"
      ]
     },
     "execution_count": 51,
     "metadata": {},
     "output_type": "execute_result"
    }
   ],
   "source": [
    "[60]*two_days"
   ]
  },
  {
   "cell_type": "code",
   "execution_count": null,
   "id": "7c13b133-4639-4602-a0e6-5548452be47c",
   "metadata": {},
   "outputs": [],
   "source": []
  }
 ],
 "metadata": {
  "kernelspec": {
   "display_name": "Python 3 (ipykernel)",
   "language": "python",
   "name": "python3"
  },
  "language_info": {
   "codemirror_mode": {
    "name": "ipython",
    "version": 3
   },
   "file_extension": ".py",
   "mimetype": "text/x-python",
   "name": "python",
   "nbconvert_exporter": "python",
   "pygments_lexer": "ipython3",
   "version": "3.11.5"
  }
 },
 "nbformat": 4,
 "nbformat_minor": 5
}
